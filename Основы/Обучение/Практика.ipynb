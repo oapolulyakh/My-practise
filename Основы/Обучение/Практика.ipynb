{
 "cells": [
  {
   "cell_type": "markdown",
   "id": "83c7865f",
   "metadata": {},
   "source": [
    "Допустим, у нас есть классическая задача: \"Найти сумму всех четных чисел Фибоначчи, которые не превышают четырех миллионов.\""
   ]
  },
  {
   "cell_type": "code",
   "execution_count": 1,
   "id": "3a7d6c29",
   "metadata": {},
   "outputs": [
    {
     "name": "stdout",
     "output_type": "stream",
     "text": [
      "4613732\n"
     ]
    }
   ],
   "source": [
    "def num_fib(max_number):\n",
    "    list_num = [0,1]\n",
    "    sum_num = 0\n",
    "    idx = 0\n",
    "    while sum_num < max_number:\n",
    "        sum_num = list_num[idx] + list_num[idx+1]\n",
    "        idx+= 1\n",
    "        if sum_num <= max_number:\n",
    "            list_num.append(sum_num)\n",
    "        else:\n",
    "            break\n",
    "    return list_num\n",
    "\n",
    "def sum_num_fib_even(list_num):\n",
    "    sum_nums = 0\n",
    "    for num in list_num:\n",
    "        if num % 2 ==0:\n",
    "            sum_nums += num\n",
    "    return sum_nums\n",
    "\n",
    "list_num = num_fib(4_000_000)\n",
    "sum_num_ev= sum_num_fib_even(list_num)\n",
    "print(sum_num_ev)\n"
   ]
  }
 ],
 "metadata": {
  "kernelspec": {
   "display_name": ".venv",
   "language": "python",
   "name": "python3"
  },
  "language_info": {
   "codemirror_mode": {
    "name": "ipython",
    "version": 3
   },
   "file_extension": ".py",
   "mimetype": "text/x-python",
   "name": "python",
   "nbconvert_exporter": "python",
   "pygments_lexer": "ipython3",
   "version": "3.11.9"
  }
 },
 "nbformat": 4,
 "nbformat_minor": 5
}
