{
 "cells": [
  {
   "cell_type": "markdown",
   "id": "fe4b672c",
   "metadata": {},
   "source": [
    "## Задача 1\n",
    "\n",
    "Завершите метод/функцию так, чтобы он преобразовывал слова с разделителями тире/подчеркивания в верблюжий регистр. Первое слово в выходных данных должно быть написано с заглавной буквы только в том случае, если исходное слово было написано с заглавной буквы (известное как Upper Camel Case, также часто называемое падежом Паскаля). Следующие слова всегда должны быть заглавными.\n",
    "\n",
    "Примеры\n",
    "`\"the-stealth-warrior\"` преобразуется в `\"theStealthWarrior\"`\n",
    "\n",
    "`\"The_Stealth_Warrior\"` преобразуется в `\"TheStealthWarrior\"`\n",
    "\n",
    "`\"The_Stealth-Warrior\"` преобразуется в `\"TheStealthWarrior\"`"
   ]
  },
  {
   "cell_type": "code",
   "execution_count": 17,
   "id": "14cf762e",
   "metadata": {},
   "outputs": [
    {
     "name": "stdout",
     "output_type": "stream",
     "text": [
      "TheStealthWarrior\n"
     ]
    }
   ],
   "source": [
    "import re\n",
    "def to_camel_case(text):\n",
    "    words = re.split(r'[_-]', text)\n",
    "    return words[0] + \"\".join(w.capitalize() for w in words[1:] )\n",
    "\n",
    "print(to_camel_case(\"The_Stealth_Warrior\"))"
   ]
  },
  {
   "cell_type": "markdown",
   "id": "287a18c2",
   "metadata": {},
   "source": [
    "## Задача 2\n",
    "\n",
    "Завершите решение так, чтобы оно возвращало true, если первый переданный аргумент (строка) заканчивается 2-м аргументом (также строкой).\n",
    "\n",
    "Примеры:\n",
    "\n",
    "Inputs: \"abc\", \"bc\"\n",
    "Output: true\n",
    "\n",
    "Inputs: \"abc\", \"d\"\n",
    "Output: false"
   ]
  },
  {
   "cell_type": "code",
   "execution_count": null,
   "id": "853ce99f",
   "metadata": {},
   "outputs": [
    {
     "name": "stdout",
     "output_type": "stream",
     "text": [
      "True\n"
     ]
    }
   ],
   "source": [
    "def solution(text, ending):\n",
    "    return text[-len(ending):] == ending\n",
    "    "
   ]
  },
  {
   "cell_type": "markdown",
   "id": "dc857ce4",
   "metadata": {},
   "source": [
    "## Задача 3\n",
    "\n",
    "Вы наверняка знакомы с системой «лайков» из Facebook и других страниц. Люди могут ставить «лайки» сообщениям в блогах, фотографиям или другим элементам. Мы хотим создать текст, который должен отображаться рядом с таким элементом.\n",
    "\n",
    "Реализуйте функцию, которая принимает массив, содержащий имена людей, которым понравился товар. Он должен возвращать отображаемый текст, как показано в примерах:\n",
    "\n",
    "```\n",
    "[]                                -->  \"no one likes this\"\n",
    "[\"Peter\"]                         -->  \"Peter likes this\"\n",
    "[\"Jacob\", \"Alex\"]                 -->  \"Jacob and Alex like this\"\n",
    "[\"Max\", \"John\", \"Mark\"]           -->  \"Max, John and Mark like this\"\n",
    "[\"Alex\", \"Jacob\", \"Mark\", \"Max\"]  -->  \"Alex, Jacob and 2 others like this\"\n",
    "```\n",
    "Примечание: Для 4 и более имен число в просто увеличивается.\"and 2 others\""
   ]
  },
  {
   "cell_type": "code",
   "execution_count": 31,
   "id": "3ed1910d",
   "metadata": {},
   "outputs": [
    {
     "name": "stdout",
     "output_type": "stream",
     "text": [
      "Max, John and Mark like this\n"
     ]
    }
   ],
   "source": [
    "def likes(names):\n",
    "    if len(names) == 0:\n",
    "        return \"no one likes this\"\n",
    "    elif len(names) == 1:\n",
    "        return f\"{names[0]} likes this\"\n",
    "    elif len(names) == 2:\n",
    "        return f\"{names[0]} and {names[1]} like this\"\n",
    "    elif len(names) == 3:\n",
    "        return f\"{names[0]}, {names[1]} and {names[2]} like this\"\n",
    "    else:\n",
    "        return f\"{names[0]}, {names[1]} and {len(names)-2} others like this\"\n",
    "    \n",
    "print(likes([\"Max\", \"John\", \"Mark\"]))"
   ]
  }
 ],
 "metadata": {
  "kernelspec": {
   "display_name": ".venv",
   "language": "python",
   "name": "python3"
  },
  "language_info": {
   "codemirror_mode": {
    "name": "ipython",
    "version": 3
   },
   "file_extension": ".py",
   "mimetype": "text/x-python",
   "name": "python",
   "nbconvert_exporter": "python",
   "pygments_lexer": "ipython3",
   "version": "3.11.9"
  }
 },
 "nbformat": 4,
 "nbformat_minor": 5
}
