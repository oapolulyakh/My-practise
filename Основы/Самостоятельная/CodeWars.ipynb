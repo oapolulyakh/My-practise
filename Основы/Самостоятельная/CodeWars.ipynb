{
 "cells": [
  {
   "cell_type": "markdown",
   "id": "fe4b672c",
   "metadata": {},
   "source": [
    "## Задача 1\n",
    "\n",
    "Завершите метод/функцию так, чтобы он преобразовывал слова с разделителями тире/подчеркивания в верблюжий регистр. Первое слово в выходных данных должно быть написано с заглавной буквы только в том случае, если исходное слово было написано с заглавной буквы (известное как Upper Camel Case, также часто называемое падежом Паскаля). Следующие слова всегда должны быть заглавными.\n",
    "\n",
    "Примеры\n",
    "`\"the-stealth-warrior\"` преобразуется в `\"theStealthWarrior\"`\n",
    "\n",
    "`\"The_Stealth_Warrior\"` преобразуется в `\"TheStealthWarrior\"`\n",
    "\n",
    "`\"The_Stealth-Warrior\"` преобразуется в `\"TheStealthWarrior\"`"
   ]
  },
  {
   "cell_type": "code",
   "execution_count": 20,
   "id": "14cf762e",
   "metadata": {},
   "outputs": [],
   "source": [
    "import re\n",
    "def to_camel_case(text):\n",
    "    words = re.split(r'[_-]', text)\n",
    "    return words[0] + \"\".join(w.capitalize() for w in words[1:] )\n",
    "\n"
   ]
  },
  {
   "cell_type": "markdown",
   "id": "287a18c2",
   "metadata": {},
   "source": [
    "## Задача 2\n",
    "\n",
    "Завершите решение так, чтобы оно возвращало true, если первый переданный аргумент (строка) заканчивается 2-м аргументом (также строкой).\n",
    "\n",
    "Примеры:\n",
    "\n",
    "Inputs: \"abc\", \"bc\"\n",
    "Output: true\n",
    "\n",
    "Inputs: \"abc\", \"d\"\n",
    "Output: false"
   ]
  },
  {
   "cell_type": "code",
   "execution_count": 33,
   "id": "853ce99f",
   "metadata": {},
   "outputs": [],
   "source": [
    "def solution(text, ending):\n",
    "    return text[-len(ending):] == ending\n",
    "    "
   ]
  },
  {
   "cell_type": "markdown",
   "id": "dc857ce4",
   "metadata": {},
   "source": [
    "## Задача 3\n",
    "\n",
    "Вы наверняка знакомы с системой «лайков» из Facebook и других страниц. Люди могут ставить «лайки» сообщениям в блогах, фотографиям или другим элементам. Мы хотим создать текст, который должен отображаться рядом с таким элементом.\n",
    "\n",
    "Реализуйте функцию, которая принимает массив, содержащий имена людей, которым понравился товар. Он должен возвращать отображаемый текст, как показано в примерах:\n",
    "\n",
    "```\n",
    "[]                                -->  \"no one likes this\"\n",
    "[\"Peter\"]                         -->  \"Peter likes this\"\n",
    "[\"Jacob\", \"Alex\"]                 -->  \"Jacob and Alex like this\"\n",
    "[\"Max\", \"John\", \"Mark\"]           -->  \"Max, John and Mark like this\"\n",
    "[\"Alex\", \"Jacob\", \"Mark\", \"Max\"]  -->  \"Alex, Jacob and 2 others like this\"\n",
    "```\n",
    "Примечание: Для 4 и более имен число в просто увеличивается.\"and 2 others\""
   ]
  },
  {
   "cell_type": "code",
   "execution_count": 32,
   "id": "3ed1910d",
   "metadata": {},
   "outputs": [],
   "source": [
    "def likes(names):\n",
    "    if len(names) == 0:\n",
    "        return \"no one likes this\"\n",
    "    elif len(names) == 1:\n",
    "        return f\"{names[0]} likes this\"\n",
    "    elif len(names) == 2:\n",
    "        return f\"{names[0]} and {names[1]} like this\"\n",
    "    elif len(names) == 3:\n",
    "        return f\"{names[0]}, {names[1]} and {names[2]} like this\"\n",
    "    else:\n",
    "        return f\"{names[0]}, {names[1]} and {len(names)-2} others like this\"\n"
   ]
  },
  {
   "cell_type": "markdown",
   "id": "db407e68",
   "metadata": {},
   "source": [
    "## Задача 4\n",
    "\n",
    "Тролли атакуют ваш раздел комментариев!\n",
    "\n",
    "Распространенный способ борьбы с этой ситуацией — убрать все гласные буквы из комментариев троллей, нейтрализовав угрозу.\n",
    "\n",
    "Ваша задача состоит в том, чтобы написать функцию, которая принимает строку и возвращает новую строку с удалением всех гласных.\n",
    "\n",
    "Например, строка \"This website is for losers LOL!\" превратится в \"Ths wbst s fr lsrs LL!\".\n",
    "\n",
    "Примечание: для этого ката не считается гласной.y"
   ]
  },
  {
   "cell_type": "code",
   "execution_count": 19,
   "id": "284b044d",
   "metadata": {},
   "outputs": [],
   "source": [
    "def disemvowel(string_):\n",
    "    new_string = \"\".join(c for c in string if c.lower() not in \"aeiou\")\n",
    "    return new_string"
   ]
  },
  {
   "cell_type": "markdown",
   "id": "9be4a653",
   "metadata": {},
   "source": [
    "## Задача 5\n",
    "\n",
    "Джейден Смит, сын Уилла Смита, является звездой таких фильмов, как «Каратэ-пацан» (2010) и «После Земли» (2013). Джейден также известен своей философией, которую он распространяет через Twitter. Когда он пишет в Twitter, он известен тем, что почти всегда пишет каждое слово с заглавной буквы. Для простоты вам придется писать каждое слово с заглавной буквы, посмотрите, как ожидается сокращение в примере ниже.\n",
    "\n",
    "Ваша задача состоит в том, чтобы преобразовать строки в то, как они были бы написаны Джейденом Смитом. Строки являются реальными цитатами из Джейдена Смита, но они не написаны с заглавной буквы так, как он изначально их напечатал.\n",
    "\n",
    "Пример:\n",
    "```\n",
    "Not Jaden-Cased: \"How can mirrors be real if our eyes aren't real\"\n",
    "Jaden-Cased:     \"How Can Mirrors Be Real If Our Eyes Aren't Real\"\n",
    "```"
   ]
  },
  {
   "cell_type": "code",
   "execution_count": 22,
   "id": "ded9abd4",
   "metadata": {},
   "outputs": [],
   "source": [
    "def to_jaden_case(string):\n",
    "    new_string = \" \".join(word.capitalize() for word in string.split())\n",
    "    return new_string"
   ]
  },
  {
   "cell_type": "markdown",
   "id": "cadbe111",
   "metadata": {},
   "source": [
    "## Задача 6\n",
    "\n",
    "а этот раз мы хотим написать расчеты с помощью функций и получить результаты. Давайте рассмотрим несколько примеров:\n",
    "```\n",
    "seven(times(five()))    #  must return 35\n",
    "four(plus(nine()))      #  must return 13\n",
    "eight(minus(three()))   #  must return 5\n",
    "six(divided_by(two()))  #  must return 3\n",
    "```\n",
    "\n",
    "Требования:\n",
    "\n",
    "* Для каждого числа должна быть функция от 0 («ноль») до 9 («девять»)\n",
    "* Для каждой из следующих математических операций должна быть своя функция: плюс, минус, умножение на divided_by\n",
    "* Каждое вычисление состоит ровно из одной операции и двух чисел\n",
    "* Самая внешняя функция представляет левый операнд, самая внутренняя функция представляет правый операнд\n",
    "* Деление должно быть целочисленным делением. Например, this должен возвращать , а не :22.666666..."
   ]
  },
  {
   "cell_type": "code",
   "execution_count": 23,
   "id": "64e3c11c",
   "metadata": {},
   "outputs": [],
   "source": [
    "def zero(func=None): return 0 if not func else func(0)\n",
    "def one(func=None): return 1 if not func else func(1)\n",
    "def two(func=None): return 2 if not func else func(2)\n",
    "def three(func=None): return 3 if not func else func(3)\n",
    "def four(func=None): return 4 if not func else func(4)\n",
    "def five(func=None): return 5 if not func else func(5)\n",
    "def six(func=None): return 6 if not func else func(6)\n",
    "def seven(func=None): return 7 if not func else func(7)\n",
    "def eight(func=None): return 8 if not func else func(8)\n",
    "def nine(func=None): return 9 if not func else func(9)\n",
    "\n",
    "\n",
    "def plus(b): return lambda a: a + b\n",
    "def minus(b): return lambda a: a - b\n",
    "def times(b): return lambda a: a * b\n",
    "def divided_by(b): return lambda a: int(a / b)"
   ]
  },
  {
   "cell_type": "markdown",
   "id": "436c207d",
   "metadata": {},
   "source": [
    "## Задача 7\n",
    "\n",
    "У вас есть два аргумента: - строка случайных букв (только строчные) и - массив строк (чувства). Ваша задача — вернуть, сколько конкретных ощущений находится в . stringarrayarray\n",
    "\n",
    "Например:\n",
    "\n",
    "```\n",
    "string -> 'yliausoenvjw'\n",
    "array -> ['anger', 'awe', 'joy', 'love', 'grief']\n",
    "output -> '3 feelings.' // 'awe', 'joy', 'love'\n",
    "```\n",
    "```\n",
    "string -> 'griefgriefgrief'\n",
    "array -> ['anger', 'awe', 'joy', 'love', 'grief']\n",
    "output -> '1 feeling.' // 'grief'\n",
    "```\n",
    "```\n",
    "string -> 'abcdkasdfvkadf'\n",
    "array -> ['desire', 'joy', 'shame', 'longing', 'fear']\n",
    "output -> '0 feelings.'\n",
    "```\n",
    "Если чувство можно сформировать один раз - плюс один к ответу.\n",
    "\n",
    "Если чувство может образоваться несколько раз из разных букв – плюс одна к ответу.\n",
    "\n",
    "Каждая буква в участвует в формировании всех чувств. 'angerw' -> 2 чувства: 'гнев' и 'благоговение'. string"
   ]
  },
  {
   "cell_type": "code",
   "execution_count": 60,
   "id": "8cb2ebf1",
   "metadata": {},
   "outputs": [],
   "source": [
    "def count_feelings(st, arr):\n",
    "    result = []\n",
    "    for word in arr:\n",
    "        cnt = 0\n",
    "        for symbol in word:\n",
    "            if st.count(symbol) >= word.count(symbol):\n",
    "                cnt += 1\n",
    "            else:\n",
    "                break\n",
    "        if cnt == len(word):\n",
    "            result.append(word)\n",
    "    return f\"{len(result)} feelings.\" if len(result) != 1 else f\"{len(result)} feeling.\"\n"
   ]
  },
  {
   "cell_type": "code",
   "execution_count": 59,
   "id": "e403122d",
   "metadata": {},
   "outputs": [],
   "source": [
    "def count_feelings(st, arr):\n",
    "    result = sum(all(st.count(symbol) >= word.count(symbol) for symbol in word) for word in arr)\n",
    "    return f\"{result} feeling{'.' if result == 1 else 's.'}\""
   ]
  }
 ],
 "metadata": {
  "kernelspec": {
   "display_name": ".venv",
   "language": "python",
   "name": "python3"
  },
  "language_info": {
   "codemirror_mode": {
    "name": "ipython",
    "version": 3
   },
   "file_extension": ".py",
   "mimetype": "text/x-python",
   "name": "python",
   "nbconvert_exporter": "python",
   "pygments_lexer": "ipython3",
   "version": "3.11.9"
  }
 },
 "nbformat": 4,
 "nbformat_minor": 5
}
